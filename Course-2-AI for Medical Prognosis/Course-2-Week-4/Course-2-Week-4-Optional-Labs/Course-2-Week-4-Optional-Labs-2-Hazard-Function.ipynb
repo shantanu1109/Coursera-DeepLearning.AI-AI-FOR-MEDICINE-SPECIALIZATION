{
 "cells": [
  {
   "cell_type": "markdown",
   "metadata": {},
   "source": [
    "# Hazard Function\n",
    "\n",
    "In this week's lab you'll learn about implementing `Hazard Function`."
   ]
  },
  {
   "cell_type": "markdown",
   "metadata": {},
   "source": [
    "## Import Packages"
   ]
  },
  {
   "cell_type": "code",
   "execution_count": null,
   "metadata": {},
   "outputs": [],
   "source": [
    "import numpy as np\n",
    "import pandas as pd"
   ]
  },
  {
   "cell_type": "markdown",
   "metadata": {},
   "source": [
    "Let's say we fit the hazard function\n",
    "$$\n",
    "\\lambda(t, x) = \\lambda_0(t)e^{\\theta^T X_i}\n",
    "$$\n",
    "\n",
    "So that we have the coefficients $\\theta$ for the features in $X_i$\n",
    "\n",
    "If you have a new patient, let's predict their hazard $\\lambda(t,x)$"
   ]
  },
  {
   "cell_type": "code",
   "execution_count": null,
   "metadata": {},
   "outputs": [],
   "source": [
    "lambda_0 = 1\n",
    "coef = np.array([0.5,2.])\n",
    "coef"
   ]
  },
  {
   "cell_type": "code",
   "execution_count": null,
   "metadata": {},
   "outputs": [],
   "source": [
    "X = pd.DataFrame({'age': [20,30,40],\n",
    "                  'cholesterol': [180,220,170]\n",
    "                 })\n",
    "X"
   ]
  },
  {
   "cell_type": "markdown",
   "metadata": {},
   "source": [
    "- First, let's multiply the coefficients to the features.\n",
    "- Check the shapes of the coefficients and the features to decide which one to transpose"
   ]
  },
  {
   "cell_type": "code",
   "execution_count": null,
   "metadata": {},
   "outputs": [],
   "source": [
    "coef.shape"
   ]
  },
  {
   "cell_type": "code",
   "execution_count": null,
   "metadata": {},
   "outputs": [],
   "source": [
    "X.shape"
   ]
  },
  {
   "cell_type": "markdown",
   "metadata": {},
   "source": [
    "It looks like the coefficient is a 1D array, so transposing it won't do anything.  \n",
    "- We can transpose the X so that we're multiplying a (2,) array by a (2,3) dataframe.\n",
    "\n",
    "So the formula looks more like this (transpose $X_i$ instead of $\\theta$\n",
    "$$\n",
    "\\lambda(t, x) = \\lambda_0(t)e^{\\theta X_i^T}\n",
    "$$\n",
    "\n",
    "- Let's multiply $\\theta X_i^T$"
   ]
  },
  {
   "cell_type": "code",
   "execution_count": null,
   "metadata": {},
   "outputs": [],
   "source": [
    "np.dot(coef,X.T)"
   ]
  },
  {
   "cell_type": "markdown",
   "metadata": {},
   "source": [
    "Calculate the hazard for the three patients (there are 3 rows in X)"
   ]
  },
  {
   "cell_type": "code",
   "execution_count": null,
   "metadata": {},
   "outputs": [],
   "source": [
    "lambdas = lambda_0 * np.exp(np.dot(coef,X.T))\n",
    "patients_df = X.copy()\n",
    "patients_df['hazards'] = lambdas\n",
    "patients_df"
   ]
  },
  {
   "cell_type": "code",
   "execution_count": null,
   "metadata": {},
   "outputs": [],
   "source": []
  }
 ],
 "metadata": {
  "kernelspec": {
   "display_name": "Python 3",
   "language": "python",
   "name": "python3"
  },
  "language_info": {
   "codemirror_mode": {
    "name": "ipython",
    "version": 3
   },
   "file_extension": ".py",
   "mimetype": "text/x-python",
   "name": "python",
   "nbconvert_exporter": "python",
   "pygments_lexer": "ipython3",
   "version": "3.7.6"
  }
 },
 "nbformat": 4,
 "nbformat_minor": 4
}
