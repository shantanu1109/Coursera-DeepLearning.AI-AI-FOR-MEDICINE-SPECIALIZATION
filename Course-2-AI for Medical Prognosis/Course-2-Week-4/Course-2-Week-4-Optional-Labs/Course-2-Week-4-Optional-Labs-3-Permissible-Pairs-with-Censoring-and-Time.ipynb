{
 "cells": [
  {
   "cell_type": "markdown",
   "metadata": {},
   "source": [
    "# Permissible Pairs with Censoring and Time\n",
    "\n",
    "Welcome to the last practice lab of this week and of this course!"
   ]
  },
  {
   "cell_type": "markdown",
   "metadata": {},
   "source": [
    "## Import Package"
   ]
  },
  {
   "cell_type": "code",
   "execution_count": null,
   "metadata": {},
   "outputs": [],
   "source": [
    "import pandas as pd"
   ]
  },
  {
   "cell_type": "code",
   "execution_count": null,
   "metadata": {},
   "outputs": [],
   "source": [
    "df = pd.DataFrame({'time': [2,4,2,4,2,4,2,4],\n",
    "                   'event': [1,1,1,1,0,1,1,0],\n",
    "                   'risk_score': [20,40,40,20,20,40,40,20] \n",
    "                  })\n",
    "df"
   ]
  },
  {
   "cell_type": "markdown",
   "metadata": {},
   "source": [
    "We made this data sample so that you can compare pairs of patients visually."
   ]
  },
  {
   "cell_type": "markdown",
   "metadata": {},
   "source": [
    "### When At Least One Patient is Not Censored\n",
    "- A pair may be permissible if at least one patient is not censored.\n",
    "- If both pairs of patients are censored, then they are definitely not a permissible pair."
   ]
  },
  {
   "cell_type": "code",
   "execution_count": null,
   "metadata": {},
   "outputs": [],
   "source": [
    "pd.concat([df.iloc[0:1],df.iloc[1:2]],axis=0)"
   ]
  },
  {
   "cell_type": "code",
   "execution_count": null,
   "metadata": {},
   "outputs": [],
   "source": [
    "if df['event'][0] == 1 or df['event'][1] == 1:\n",
    "    print(f\"May be a permissible pair: 0 and 1\")\n",
    "else:\n",
    "    print(f\"Definitely not permissible pair: 0 and 1\")"
   ]
  },
  {
   "cell_type": "code",
   "execution_count": null,
   "metadata": {},
   "outputs": [],
   "source": [
    "pd.concat([df.iloc[4:5],df.iloc[7:8]],axis=0)"
   ]
  },
  {
   "cell_type": "code",
   "execution_count": null,
   "metadata": {},
   "outputs": [],
   "source": [
    "if df['event'][4] == 1 or df['event'][7] == 1:\n",
    "    print(f\"May be a permissible pair: 4 and 7\")\n",
    "else:\n",
    "    print(f\"Definitely not permissible pair: 4 and 7\")"
   ]
  },
  {
   "cell_type": "markdown",
   "metadata": {},
   "source": [
    "### If Neither Patient was Censored:\n",
    "- If both patients had an event (neither one was censored). This is definitely a permissible pair."
   ]
  },
  {
   "cell_type": "code",
   "execution_count": null,
   "metadata": {},
   "outputs": [],
   "source": [
    "pd.concat([df.iloc[0:1],df.iloc[1:2]],axis=0)"
   ]
  },
  {
   "cell_type": "code",
   "execution_count": null,
   "metadata": {},
   "outputs": [],
   "source": [
    "if df['event'][0] == 1 and df['event'][1] == 1:\n",
    "    print(f\"Definitely a permissible pair: 0 and 1\")\n",
    "else:\n",
    "    print(f\"May be a permissible pair: 0 and 1\")"
   ]
  },
  {
   "cell_type": "markdown",
   "metadata": {},
   "source": [
    "### When One Patient is Censored:\n",
    "- If we know that one patient was censored and one had an event, then we can check if censored patient's time is at least as great as the uncensored patient's time.  If so, it's a permissible pair as well"
   ]
  },
  {
   "cell_type": "code",
   "execution_count": null,
   "metadata": {},
   "outputs": [],
   "source": [
    "pd.concat([df.iloc[6:7],df.iloc[7:8]],axis=0)"
   ]
  },
  {
   "cell_type": "code",
   "execution_count": null,
   "metadata": {},
   "outputs": [],
   "source": [
    "if df['time'][7] >= df['time'][6]:\n",
    "    print(f\"Permissible pair: Censored patient 7 lasted at least as long as uncensored patient 6\")\n",
    "else:\n",
    "    print(\"Not a permisible pair\")"
   ]
  },
  {
   "cell_type": "code",
   "execution_count": null,
   "metadata": {},
   "outputs": [],
   "source": [
    "pd.concat([df.iloc[4:5],df.iloc[5:6]],axis=0)"
   ]
  },
  {
   "cell_type": "code",
   "execution_count": null,
   "metadata": {},
   "outputs": [],
   "source": [
    "if df['time'][4] >= df['time'][5]:\n",
    "    print(f\"Permissible pair\")\n",
    "else:\n",
    "    print(\"Not a permisible pair: patient 4 was censored before patient 5 had their event\")"
   ]
  }
 ],
 "metadata": {
  "kernelspec": {
   "display_name": "Python 3",
   "language": "python",
   "name": "python3"
  },
  "language_info": {
   "codemirror_mode": {
    "name": "ipython",
    "version": 3
   },
   "file_extension": ".py",
   "mimetype": "text/x-python",
   "name": "python",
   "nbconvert_exporter": "python",
   "pygments_lexer": "ipython3",
   "version": "3.7.6"
  }
 },
 "nbformat": 4,
 "nbformat_minor": 4
}
